{
 "cells": [
  {
   "cell_type": "code",
   "execution_count": 1,
   "metadata": {},
   "outputs": [],
   "source": [
    "from datetime import timedelta\n",
    "import pandas as pd\n",
    "import requests\n",
    "import os\n",
    "TOKEN = os.getenv(\"AEMET_TOKEN\")"
   ]
  },
  {
   "cell_type": "code",
   "execution_count": 2,
   "metadata": {},
   "outputs": [],
   "source": [
    "\n",
    "MUNICIPALITY_PREDICTION = \"https://opendata.aemet.es/opendata/api/prediccion/especifica/municipio/diaria/\""
   ]
  },
  {
   "cell_type": "code",
   "execution_count": 3,
   "metadata": {},
   "outputs": [],
   "source": [
    "def run_query(base_url: str, endpoint: str):\n",
    "    url = f\"{base_url}/{endpoint}\"\n",
    "    headers = {\"Authorization\": f\"Bearer {TOKEN}\"}\n",
    "\n",
    "    # Realizar la petición\n",
    "    respuesta = requests.get(url, headers=headers)\n",
    "    if respuesta.status_code == 200:\n",
    "        datos = respuesta.json()\n",
    "        # La API devuelve un enlace a los datos reales\n",
    "        datos_url = datos.get(\"datos\")\n",
    "        if datos_url:\n",
    "            datos_respuesta = requests.get(datos_url)\n",
    "            return datos_respuesta.json()  # Devuelve los datos en formato JSON\n",
    "        else:\n",
    "            print(\"No se encontró la URL de los datos.\")\n",
    "    else:\n",
    "        print(f\"Error {respuesta.status_code}: {respuesta.text}\")\n",
    "        return None\n",
    "\n",
    "# Obtener datos observados\n",
    "vallehermoso = run_query(MUNICIPALITY_PREDICTION, \"38050\")"
   ]
  },
  {
   "cell_type": "code",
   "execution_count": 4,
   "metadata": {},
   "outputs": [],
   "source": [
    "pred =vallehermoso[0].get(\"prediccion\").get(\"dia\")"
   ]
  },
  {
   "cell_type": "code",
   "execution_count": 48,
   "metadata": {},
   "outputs": [],
   "source": [
    "def get_data_day(day, measure):\n",
    "    day_of_pred = day.get(\"fecha\")\n",
    "\n",
    "    data = pd.DataFrame(day.get(measure))\n",
    "    data[\"time\"] = day_of_pred\n",
    "    data.set_index(\"time\", inplace=True)\n",
    "    data.index = pd.to_datetime(data.index)\n",
    "\n",
    "    return data\n",
    "\n",
    "def get_data_day_with_hour(day, measure):\n",
    "    data = get_data_day(day, measure)\n",
    "\n",
    "    # Extraer 'value' y 'hora' de la columna 'dato'\n",
    "    data[\"value\"] = data[\"dato\"].apply(lambda x: x.get(\"value\"))\n",
    "    data[\"hora\"] = data[\"dato\"].apply(\n",
    "        lambda x: pd.Timedelta(\n",
    "            hours=(x.get(\"hora\") if x.get(\"hora\") is not None and x.get(\"hora\") != 24 else 23),\n",
    "            minutes=(0 if x.get(\"hora\") is not None and x.get(\"hora\") != 24 else 59)\n",
    "        )\n",
    "    )\n",
    "\n",
    "    data.index = pd.to_datetime(data.index) + data[\"hora\"]\n",
    "\n",
    "    data.drop(columns=[\"dato\", \"hora\"], inplace=True)\n",
    "\n",
    "    return data\n",
    "\n",
    "\n",
    "\n",
    "\n",
    "for day in pred:\n",
    "    # 1. probPrecipitacion\n",
    "    df_precipitacion = get_data_day(day, \"probPrecipitacion\")\n",
    "    # 2. cotaNieveProv\n",
    "    df_nieve = get_data_day(day, \"cotaNieveProv\")\n",
    "    # 4. estadoCielo\n",
    "    # df_cielo = get_day_data(day, \"estadoCielo\")\n",
    "    # 5. viento\n",
    "    # df_viento = get_day_data(day, \"viento\")\n",
    "    # 7. rachaMax\n",
    "    df_rachamax = get_data_day(day, \"rachaMax\")\n",
    "    # 8. temperatura\n",
    "    df_temperatura = get_data_day_with_hour(day, \"temperatura\")\n",
    "    # 9. sensTermica\n",
    "    df_sesnstermica = get_data_day_with_hour(day, \"sensTermica\")\n",
    "    # 10. humedadRelativa\n",
    "    df_humedadrelativa = get_data_day_with_hour(day, \"humedadRelativa\")\n",
    "    break"
   ]
  },
  {
   "cell_type": "code",
   "execution_count": 49,
   "metadata": {},
   "outputs": [
    {
     "data": {
      "text/html": [
       "<div>\n",
       "<style scoped>\n",
       "    .dataframe tbody tr th:only-of-type {\n",
       "        vertical-align: middle;\n",
       "    }\n",
       "\n",
       "    .dataframe tbody tr th {\n",
       "        vertical-align: top;\n",
       "    }\n",
       "\n",
       "    .dataframe thead th {\n",
       "        text-align: right;\n",
       "    }\n",
       "</style>\n",
       "<table border=\"1\" class=\"dataframe\">\n",
       "  <thead>\n",
       "    <tr style=\"text-align: right;\">\n",
       "      <th></th>\n",
       "      <th>maxima</th>\n",
       "      <th>minima</th>\n",
       "      <th>value</th>\n",
       "    </tr>\n",
       "  </thead>\n",
       "  <tbody>\n",
       "    <tr>\n",
       "      <th>2025-01-14 06:00:00</th>\n",
       "      <td>21</td>\n",
       "      <td>14</td>\n",
       "      <td>15</td>\n",
       "    </tr>\n",
       "    <tr>\n",
       "      <th>2025-01-14 12:00:00</th>\n",
       "      <td>21</td>\n",
       "      <td>14</td>\n",
       "      <td>19</td>\n",
       "    </tr>\n",
       "    <tr>\n",
       "      <th>2025-01-14 18:00:00</th>\n",
       "      <td>21</td>\n",
       "      <td>14</td>\n",
       "      <td>17</td>\n",
       "    </tr>\n",
       "    <tr>\n",
       "      <th>2025-01-14 23:59:00</th>\n",
       "      <td>21</td>\n",
       "      <td>14</td>\n",
       "      <td>15</td>\n",
       "    </tr>\n",
       "  </tbody>\n",
       "</table>\n",
       "</div>"
      ],
      "text/plain": [
       "                     maxima  minima  value\n",
       "2025-01-14 06:00:00      21      14     15\n",
       "2025-01-14 12:00:00      21      14     19\n",
       "2025-01-14 18:00:00      21      14     17\n",
       "2025-01-14 23:59:00      21      14     15"
      ]
     },
     "execution_count": 49,
     "metadata": {},
     "output_type": "execute_result"
    }
   ],
   "source": [
    "df_temperatura"
   ]
  },
  {
   "cell_type": "code",
   "execution_count": null,
   "metadata": {},
   "outputs": [],
   "source": []
  }
 ],
 "metadata": {
  "kernelspec": {
   "display_name": "Python 3",
   "language": "python",
   "name": "python3"
  },
  "language_info": {
   "codemirror_mode": {
    "name": "ipython",
    "version": 3
   },
   "file_extension": ".py",
   "mimetype": "text/x-python",
   "name": "python",
   "nbconvert_exporter": "python",
   "pygments_lexer": "ipython3",
   "version": "3.10.12"
  }
 },
 "nbformat": 4,
 "nbformat_minor": 2
}
